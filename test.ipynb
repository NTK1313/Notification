{
 "cells": [
  {
   "cell_type": "code",
   "execution_count": 8,
   "metadata": {},
   "outputs": [
    {
     "name": "stdout",
     "output_type": "stream",
     "text": [
      "[{'timestamp': [1668988800000, 1669075200000, 1669248000000, 1669355487000], 'open': [1397.0, 1400.0, 1409.0, 1415.0], 'high': [1403.0, 1409.0, 1417.0, 1418.0], 'low': [1393.0, 1400.0, 1408.0, 1411.0], 'close': [1403.0, 1408.0, 1415.0, 1412.0], 'volume': [19000, 17000, 16900, 8800]}, {'timestamp': [1668988800000, 1669075200000, 1669248000000, 1669355510000], 'open': [2111.5, 2121.0, 2150.0, 2162.0], 'high': [2119.0, 2149.5, 2171.0, 2164.0], 'low': [2100.0, 2120.0, 2145.5, 2139.5], 'close': [2104.5, 2139.0, 2150.0, 2142.5], 'volume': [2861800, 4078800, 4937800, 1343400]}, {'timestamp': [1668988800000, 1669075200000, 1669248000000, 1669355511000], 'open': [493.0, 505.0, 511.0, 517.0], 'high': [502.0, 509.0, 518.0, 520.0], 'low': [492.0, 504.0, 511.0, 514.0], 'close': [502.0, 507.0, 518.0, 519.0], 'volume': [129100, 112000, 143100, 90700]}, {'timestamp': [1668988800000, 1669075200000, 1669248000000, 1669355512000], 'open': [715.0, 721.5, 742.0, 745.0], 'high': [720.0999755859375, 738.0999755859375, 756.4000244140625, 757.4000244140625], 'low': [714.5999755859375, 721.2999877929688, 741.0999755859375, 743.2000122070312], 'close': [719.7000122070312, 735.5, 751.2000122070312, 756.5999755859375], 'volume': [32552200, 66408200, 93865900, 44930800]}, {'timestamp': [1668988800000, 1669075200000, 1669248000000, 1669355512000], 'open': [3864.0, 3880.0, 3920.0, 3900.0], 'high': [3871.0, 3920.0, 3933.0, 3900.0], 'low': [3830.0, 3879.0, 3878.0, 3873.0], 'close': [3843.0, 3905.0, 3882.0, 3891.0], 'volume': [3672000, 5305200, 7649600, 2927300]}]\n",
      "4\n",
      "4\n",
      "4\n",
      "4\n",
      "4\n"
     ]
    }
   ],
   "source": [
    "# 要件\n",
    "# 当日の株価\n",
    "# 前日からの増減\n",
    "# 直近1週間のグラフ\n",
    "\n",
    "import define\n",
    "from datetime import datetime\n",
    "from decimal import Decimal, ROUND_HALF_UP\n",
    "\n",
    "# 4220 リケンテクノス\n",
    "# 4503 アステラス製薬\n",
    "# SPK\n",
    "# 8306 三菱UFL\n",
    "# 9432 NTT\n",
    "code_list = ['4220','4503','7466','8306','9432']\n",
    "\n",
    "# 株価データ取得\n",
    "symbol_data_list = []\n",
    "# timestamp：取引日時\n",
    "# open：始値\n",
    "# high：高値\n",
    "# low：底値\n",
    "# close：終値\n",
    "# volume：出来高\n",
    "EOL = '\\r\\n'\n",
    "SPECE = ' '\n",
    "name = None\n",
    "message = EOL + 'おはようございます。' + EOL + '最新の株価情報を送信します。' + EOL + 'ご確認ください。' + EOL +'-----以下、株価情報--------'\n",
    "symbol_data_list =define.get_share_info_list(code_list,5,1)\n",
    "symbol_data_list.sort(key=lambda x: x[\"timestamp\"])\n",
    "print(symbol_data_list)\n",
    "list_size = len(symbol_data_list)\n",
    "for d in range(0,int(list_size)):\n",
    "\tsymbol_data = symbol_data_list[d]\n",
    "\tprice_list = symbol_data[\"close\"]\n",
    "\ttime_list = symbol_data[\"timestamp\"]\n",
    "\tprint(len(time_list))\n",
    "\tif (d == 0):\n",
    "\t\tname = '【4220】リケンテクノス'\n",
    "\telif(d == 1):\n",
    "\t\tname = '【4503】アステラス製薬'\n",
    "\telif(d == 2):\n",
    "\t\tname = '【7466】SPK'\n",
    "\telif(d == 3):\n",
    "\t\tname = '【8306】三菱UFJ'\n",
    "\telse:\n",
    "\t\tname = '【9432】NTT'\n",
    "\tmessage = message + EOL + name\n",
    "\tfor i in range(len(time_list)-2,len(time_list)): # 直近2世代分の株価を取得\n",
    "\t\ttime = time_list[i]\n",
    "\t\tprice = str(price_list[i])\n",
    "\t\ttime = datetime.utcfromtimestamp(int(time/1000))\n",
    "\t\ttime = time.strftime(\"%m/%d\")\n",
    "\t\tmsg_time = '日時' + str(time)\n",
    "\t\tmsg_price = '株価' + str(price)\n",
    "\t\tmessage1 = msg_time + SPECE + msg_price\n",
    "\t\tmessage = str(message) + EOL + message1\n",
    "#print(message)\n",
    "message = message + EOL + EOL + 'SBI証券ログインページ' + EOL + 'https://www.sbisec.co.jp/ETGate/WPLETmgR001Control?OutSide=on&getFlg=on&burl=search_fx&cat1=fx&cat2=guide&dir=guide&file=fx_guide_02_01.html'\n",
    "define.send_line_notify(message)\n"
   ]
  }
 ],
 "metadata": {
  "kernelspec": {
   "display_name": "Python 3.9.7 64-bit",
   "language": "python",
   "name": "python3"
  },
  "language_info": {
   "codemirror_mode": {
    "name": "ipython",
    "version": 3
   },
   "file_extension": ".py",
   "mimetype": "text/x-python",
   "name": "python",
   "nbconvert_exporter": "python",
   "pygments_lexer": "ipython3",
   "version": "3.9.7"
  },
  "orig_nbformat": 4,
  "vscode": {
   "interpreter": {
    "hash": "86dfe0712b1b0135e7232a6ca6462787c8ae0e4b763adabfa78300f5b4f9b25e"
   }
  }
 },
 "nbformat": 4,
 "nbformat_minor": 2
}
